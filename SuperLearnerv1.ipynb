{
 "cells": [
  {
   "cell_type": "code",
   "execution_count": 46,
   "id": "dc5d6f27",
   "metadata": {},
   "outputs": [],
   "source": [
    "import numpy as np\n",
    "import matplotlib.pyplot as plt\n",
    "from sklearn.ensemble import RandomForestRegressor\n",
    "from sklearn.ensemble import RandomForestClassifier\n",
    "from sklearn.model_selection import KFold\n",
    "import statsmodels.api as sm\n",
    "from sklearn.svm import SVC\n",
    "from sklearn.linear_model import LogisticRegression, LinearRegression\n",
    "from sklearn.model_selection import KFold\n",
    "from sklearn.metrics import balanced_accuracy_score\n",
    "from sklearn.datasets import make_classification\n",
    "from sklearn.metrics import r2_score\n",
    "# NOTE: THIS CODE ONLY WORKS FOR UNI-DIMENSIONAL OUTPUT (REGRESSION OR CLASSIFICATION)\n",
    "\n",
    "N = 1000\n",
    "output = 'cls'  # 'cls' for classification 'proba' for probabilities, 'reg' for regression\n",
    "k = 10\n"
   ]
  },
  {
   "cell_type": "code",
   "execution_count": 60,
   "id": "8ccafb9b",
   "metadata": {},
   "outputs": [],
   "source": [
    "x, y = make_classification(n_samples=N, n_features=8, n_clusters_per_class=4,\n",
    "                            n_informative=4, n_redundant=0, hypercube=False,\n",
    "                            random_state=0, shuffle=True, class_sep=0.1)\n",
    "\n",
    "\n",
    "def train_combiner(x, y, est_dict, output):\n",
    "    if (output == 'cls') or (output=='proba'):\n",
    "        num_classes = np.unique(y)\n",
    "        if len(num_classes) == 2:\n",
    "            num_classes = 1\n",
    "        elif len(num_classes) > 2:\n",
    "            num_classes = len(num_classes)\n",
    "    else:\n",
    "        num_classes = 1\n",
    "\n",
    "    all_preds = np.zeros((len(y), num_classes, len(est_dict)))\n",
    "    all_gts = np.zeros(len(y))\n",
    "    risks = []\n",
    "\n",
    "    i = 0\n",
    "    for key in est_dict.keys():\n",
    "\n",
    "        kf = KFold(n_splits=k, shuffle=True, random_state=0)\n",
    "\n",
    "        probs = []\n",
    "        preds = []\n",
    "        gts = []\n",
    "\n",
    "        for train_index, test_index in kf.split(x):\n",
    "            x_train = x[train_index]\n",
    "            x_test = x[test_index]\n",
    "            y_train = y[train_index]\n",
    "            y_test = y[test_index]\n",
    "\n",
    "            est = est_dict[key]\n",
    "            est.fit(x_train, y_train)\n",
    "\n",
    "            if output == 'proba' or (output == 'cls'):\n",
    "                p = est.predict(x_test)\n",
    "                p_robs = est.predict_proba(x_test)\n",
    "                preds.append(p)\n",
    "                probs.append(p_robs)\n",
    "            elif (output == 'reg'):\n",
    "                p = est.predict(x_test)\n",
    "                preds.append(p)\n",
    "            gts.append(y_test)\n",
    "\n",
    "        preds = np.concatenate(preds)\n",
    "        probs = np.concatenate(probs)\n",
    "        if num_classes == 1:\n",
    "            probs = probs[:,1].reshape(-1,1)\n",
    "            preds = preds.reshape(-1,1)\n",
    "\n",
    "        gts = np.concatenate(gts)\n",
    "\n",
    "        if (output == 'cls') or (output == 'proba'):\n",
    "            all_preds[:,:,i] = probs\n",
    "        elif output == 'reg':\n",
    "            all_preds[:,:,i] = preds\n",
    "\n",
    "        if (output == 'cls') or (output == 'proba'):\n",
    "            risks.append(balanced_accuracy_score(gts, preds))\n",
    "        elif output == 'reg':\n",
    "            risks.append(r2_score(gts, preds))       \n",
    "        i += 1\n",
    "\n",
    "\n",
    "    weighted_preds = np.zeros((len(y),num_classes))\n",
    "    weighted_probs = np.zeros((len(y),num_classes))\n",
    "    risks = []\n",
    "\n",
    "    if (output == 'cls') or (output == 'proba'):\n",
    "        combiner = LogisticRegression(fit_intercept=False)\n",
    "    elif (output == 'reg'):\n",
    "        combiner = LinearRegression(fit_intercept=False)\n",
    "    combiner.fit(all_preds[:,0,:], gts)\n",
    "    coefs = combiner.coef_\n",
    "\n",
    "    preds = combiner.predict(all_preds[:,0,:])\n",
    "    probs = combiner.predict_proba(all_preds[:,0,:])\n",
    "\n",
    "    weighted_preds[:,0] = preds\n",
    "    weighted_probs[:, 0] = probs[:,1]\n",
    "\n",
    "    if (output == 'cls') or (output == 'proba'):\n",
    "        risk = balanced_accuracy_score(gts, preds)\n",
    "    elif output == 'reg':\n",
    "        risk = r2_score(gts, preds)  \n",
    "    risks.append(risk)\n",
    "\n",
    "    return combiner \n",
    "\n",
    "\n",
    "def train_superlearner(x, y, est_dict):\n",
    "    # now we have the coefficients we can retrain the networks on all the data and apply this weighting\n",
    "    risks = []\n",
    "    trained_superlearner = {}\n",
    "    \n",
    "    for key in est_dict.keys():\n",
    "\n",
    "        est = est_dict[key]\n",
    "        est.fit(x, y)\n",
    "        trained_superlearner[key] = est\n",
    "        \n",
    "    return trained_superlearner\n",
    "\n",
    "  \n",
    "def estimation(x, y, combiner, trained_superlearner, proba=False):\n",
    "    \n",
    "    all_preds = np.zeros((len(y), len(trained_superlearner)))\n",
    "    i = 0\n",
    "    for key in trained_superlearner.keys():\n",
    "        est = trained_superlearner[key]\n",
    "        \n",
    "        if proba == True:\n",
    "            preds = est.predict_proba(x)[:, 1]\n",
    "        else:\n",
    "            preds =est.predict(x)\n",
    "        all_preds[:, i] = preds\n",
    "        \n",
    "        i += 1\n",
    "    \n",
    "    if proba:\n",
    "        weighted_preds = combiner.predict_proba(all_preds)\n",
    "    else:\n",
    "        weighted_preds = combiner.predict(all_preds)\n",
    "        \n",
    "    return weighted_preds\n",
    "        \n"
   ]
  },
  {
   "cell_type": "code",
   "execution_count": 55,
   "id": "95855d6c",
   "metadata": {},
   "outputs": [
    {
     "data": {
      "text/plain": [
       "0.5"
      ]
     },
     "execution_count": 55,
     "metadata": {},
     "output_type": "execute_result"
    }
   ],
   "source": [
    "\n",
    "est_dict = {'LR':LogisticRegression()}\n",
    "\n",
    "combiner =  train_combiner(x, y, est_dict, output)\n",
    "trained_superlearner = train_superlearner(x, y, est_dict)\n",
    "preds = estimation(x, y, combiner, trained_superlearner, proba=False)\n",
    "balanced_accuracy_score(y, preds)"
   ]
  },
  {
   "cell_type": "code",
   "execution_count": 56,
   "id": "3a58cdec",
   "metadata": {},
   "outputs": [
    {
     "data": {
      "text/plain": [
       "0.784"
      ]
     },
     "execution_count": 56,
     "metadata": {},
     "output_type": "execute_result"
    }
   ],
   "source": [
    "\n",
    "est_dict = {'LR':LogisticRegression(), 'SVC':SVC(probability=True)}\n",
    "\n",
    "combiner =  train_combiner(x, y, est_dict)\n",
    "trained_superlearner = train_superlearner(x, y, est_dict)\n",
    "preds = estimation(x, y, combiner, trained_superlearner, proba=False)\n",
    "\n",
    "balanced_accuracy_score(y, preds)"
   ]
  },
  {
   "cell_type": "code",
   "execution_count": 59,
   "id": "8ac1db84",
   "metadata": {},
   "outputs": [
    {
     "data": {
      "text/plain": [
       "0.915"
      ]
     },
     "execution_count": 59,
     "metadata": {},
     "output_type": "execute_result"
    }
   ],
   "source": [
    "\n",
    "est_dict = {'LR':LogisticRegression(), 'SVC':SVC(probability=True), 'RF':RandomForestClassifier()}\n",
    "\n",
    "combiner =  train_combiner(x, y, est_dict)\n",
    "trained_superlearner = train_superlearner(x, y, est_dict)\n",
    "preds = estimation(x, y, combiner, trained_superlearner, proba=False)\n",
    "\n",
    "balanced_accuracy_score(y, preds)"
   ]
  },
  {
   "cell_type": "code",
   "execution_count": null,
   "id": "8fdd88b1",
   "metadata": {},
   "outputs": [],
   "source": []
  },
  {
   "cell_type": "code",
   "execution_count": null,
   "id": "b89a19a9",
   "metadata": {},
   "outputs": [],
   "source": []
  },
  {
   "cell_type": "code",
   "execution_count": null,
   "id": "9adc8401",
   "metadata": {},
   "outputs": [],
   "source": []
  },
  {
   "cell_type": "code",
   "execution_count": null,
   "id": "ec619fbd",
   "metadata": {},
   "outputs": [],
   "source": []
  }
 ],
 "metadata": {
  "kernelspec": {
   "display_name": "Python 3",
   "language": "python",
   "name": "python3"
  },
  "language_info": {
   "codemirror_mode": {
    "name": "ipython",
    "version": 3
   },
   "file_extension": ".py",
   "mimetype": "text/x-python",
   "name": "python",
   "nbconvert_exporter": "python",
   "pygments_lexer": "ipython3",
   "version": "3.7.0"
  }
 },
 "nbformat": 4,
 "nbformat_minor": 5
}
